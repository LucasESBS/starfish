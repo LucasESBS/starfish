{
 "cells": [
  {
   "cell_type": "markdown",
   "metadata": {},
   "source": [
    "## Mock up Coordinate grid"
   ]
  },
  {
   "cell_type": "markdown",
   "metadata": {},
   "source": [
    "The below was run and uploaded to s3, such that the following section can now be run using the data corresponding to date 20180924"
   ]
  },
  {
   "cell_type": "code",
   "execution_count": 3,
   "metadata": {},
   "outputs": [],
   "source": [
    "import numpy as np\n",
    "import os\n",
    "import glob\n",
    "import json\n",
    "\n",
    "def adjust_coordinates(directory, out_dir):\n",
    "    \n",
    "    os.makedirs(out_dir, exist_ok=True)\n",
    "    \n",
    "    # this was extracted from a conversation with @dganguli who determined \n",
    "    # the stitching order\n",
    "    coordinates = np.array(\n",
    "        [[1, 2, 3, 4],\n",
    "         [8, 7, 6, 5],\n",
    "         [9, 10, 11, 12],\n",
    "         [16, 15, 14, 13]],\n",
    "        dtype=int\n",
    "    ) - 1  # 0 indexed\n",
    "    \n",
    "\n",
    "    # pseudo-distances, since the pixel size is not known, but the aspect \n",
    "    # ratio is 4 : 3\n",
    "    x = 100\n",
    "    y = 75\n",
    "\n",
    "    # these coordinates set up a grid wherein the origin is the lower-left\n",
    "    y_min = np.tile(np.arange(4)[:, None][::-1], 4) * y\n",
    "    y_max = np.tile(np.arange(1, 5)[:, None][::-1], 4) * y\n",
    "    x_min = np.tile(np.arange(4)[None, :][::-1], 4).reshape(4, 4) * x \n",
    "    x_max = np.tile(np.arange(1, 5)[None, :][::-1], 4).reshape(4, 4) * x\n",
    "    \n",
    "    # add coordinates to the existing data\n",
    "    files = glob.glob(os.path.join(directory + '*fov*.json'))\n",
    "    assert files\n",
    "    for f in files:\n",
    "        \n",
    "        # get the json data\n",
    "        with open(f, 'rb') as fhr:\n",
    "            json_data = json.load(fhr)\n",
    "        \n",
    "        # find the coordinate index and then get corrected pseudo-coordinates\n",
    "        index_pattern = '^.*?_(\\d{3})\\.json$'\n",
    "        index = int(re.match(index_pattern, f).group(1))\n",
    "        \n",
    "        # construct coordinates dict\n",
    "        j = np.where(coordinates == index)\n",
    "        coords = {\n",
    "            \"x\": [\n",
    "                int(x_min[j]),\n",
    "                int(x_max[j])\n",
    "            ],\n",
    "            \"y\": [\n",
    "                int(y_min[j]),\n",
    "                int(y_max[j])\n",
    "            ],\n",
    "            \"z\": [\n",
    "                0.0,\n",
    "                0.0001\n",
    "            ]\n",
    "        }\n",
    "        \n",
    "        # correct the coordinates\n",
    "        for i, tile in enumerate(json_data['tiles']):\n",
    "            json_data['tiles'][i]['coordinates'] = coords\n",
    "        \n",
    "        # write corrected data to out_dir\n",
    "        filename = os.path.basename(f)\n",
    "        outfile = os.path.join(out_dir, filename)\n",
    "        with open(outfile, 'w') as fhw:\n",
    "            json.dump(json_data, fhw)"
   ]
  },
  {
   "cell_type": "code",
   "execution_count": 72,
   "metadata": {},
   "outputs": [],
   "source": [
    "adjust_coordinates('/Users/ajc/Desktop/iss_breast/', '/Users/ajc/Desktop/iss_coordinates')"
   ]
  },
  {
   "cell_type": "markdown",
   "metadata": {},
   "source": [
    "## Create an ISS Pipeline"
   ]
  },
  {
   "cell_type": "code",
   "execution_count": 1,
   "metadata": {},
   "outputs": [],
   "source": [
    "import starfish\n",
    "from starfish.image import Filter, Registration, Segmentation\n",
    "from starfish.spots import SpotFinder\n",
    "from starfish.types import Indices, Features\n",
    "import warnings\n",
    "\n",
    "\n",
    "def iss_pipeline(fov, codebook): \n",
    "    \n",
    "    primary_image = fov.primary_image\n",
    "        \n",
    "    print('Registering...')\n",
    "    registration = Registration.FourierShiftRegistration(\n",
    "        upsampling=1000,\n",
    "        reference_stack=fov['dots']\n",
    "    )\n",
    "    registered = registration.run(primary_image, in_place=False)\n",
    "\n",
    "    # filter raw data\n",
    "    masking_radius = 15\n",
    "    filt = Filter.WhiteTophat(masking_radius, is_volume=False)\n",
    "    print('WhiteTophat Filtering...')\n",
    "    filtered = filt.run(registered, verbose=True, in_place=False)\n",
    "\n",
    "    \n",
    "    min_sigma = 1\n",
    "    max_sigma = 10\n",
    "    num_sigma = 30\n",
    "    threshold = 0.01\n",
    "\n",
    "    print('Detecting spots...')\n",
    "    p = SpotFinder.GaussianSpotDetector(\n",
    "        min_sigma=1,\n",
    "        max_sigma=10,\n",
    "        num_sigma=30,\n",
    "        threshold=0.01,\n",
    "        measurement_type='mean',\n",
    "    )\n",
    "\n",
    "    # detect triggers some numpy warnings\n",
    "    with warnings.catch_warnings():\n",
    "        warnings.simplefilter(\"ignore\")\n",
    "\n",
    "        # blobs = dots; define the spots in the dots image, but then find them again in the stack.\n",
    "        blobs_image = fov['dots'].max_proj(Indices.ROUND, Indices.Z)\n",
    "        intensities = p.run(filtered, blobs_image=blobs_image)\n",
    "    \n",
    "    print('Decoding...')\n",
    "    decoded = codebook.decode_per_round_max(intensities)\n",
    "    \n",
    "    print('Segmenting...')\n",
    "    seg = Segmentation.Watershed(\n",
    "        dapi_threshold=.16,\n",
    "        input_threshold=.22,\n",
    "        min_distance=57,\n",
    "    )\n",
    "    regions = seg.run(primary_image, fov['nuclei'])\n",
    "    \n",
    "    return decoded, regions"
   ]
  },
  {
   "cell_type": "code",
   "execution_count": 2,
   "metadata": {},
   "outputs": [],
   "source": [
    "def process_experiment(experiment: starfish.Experiment):\n",
    "    decoded_intensities = {}\n",
    "    regions = {}\n",
    "    for name_, fov in experiment.items():\n",
    "        decoded, segmentation_results = iss_pipeline(fov, experiment.codebook)\n",
    "        decoded_intensities[name_] = decoded\n",
    "        regions[name_] = segmentation_results\n",
    "\n",
    "    return decoded_intensities, regions"
   ]
  },
  {
   "cell_type": "code",
   "execution_count": 3,
   "metadata": {},
   "outputs": [],
   "source": [
    "experiment_metadata = 'http://czi.starfish.data.public.s3.amazonaws.com/browse/formatted/20180924/iss_breast/experiment.json'"
   ]
  },
  {
   "cell_type": "code",
   "execution_count": 4,
   "metadata": {},
   "outputs": [
    {
     "data": {
      "text/plain": [
       "<starfish.Experiment (FOVs=16)>\n",
       "{\n",
       "fov_000: <starfish.FieldOfView>\n",
       "  Primary Image: <slicedimage._tileset.TileSet object at 0x1255b2c18>\n",
       "  Auxiliary Images:\n",
       "    nuclei: <slicedimage._tileset.TileSet object at 0x1266e7588>\n",
       "    dots: <slicedimage._tileset.TileSet object at 0x1266f9588>\n",
       "fov_001: <starfish.FieldOfView>\n",
       "  Primary Image: <slicedimage._tileset.TileSet object at 0x12666e470>\n",
       "  Auxiliary Images:\n",
       "    nuclei: <slicedimage._tileset.TileSet object at 0x1266b2240>\n",
       "    dots: <slicedimage._tileset.TileSet object at 0x1266f9438>\n",
       "fov_002: <starfish.FieldOfView>\n",
       "  Primary Image: <slicedimage._tileset.TileSet object at 0x1255b2668>\n",
       "  Auxiliary Images:\n",
       "    nuclei: <slicedimage._tileset.TileSet object at 0x1266e76d8>\n",
       "    dots: <slicedimage._tileset.TileSet object at 0x1266f96a0>\n",
       "fov_003: <starfish.FieldOfView>\n",
       "  Primary Image: <slicedimage._tileset.TileSet object at 0x1255b2c50>\n",
       "  Auxiliary Images:\n",
       "    nuclei: <slicedimage._tileset.TileSet object at 0x1266e7748>\n",
       "    dots: <slicedimage._tileset.TileSet object at 0x1266f9358>\n",
       "  ...,\n",
       "}"
      ]
     },
     "execution_count": 4,
     "metadata": {},
     "output_type": "execute_result"
    }
   ],
   "source": [
    "exp = starfish.Experiment.from_json(experiment_metadata)\n",
    "exp"
   ]
  },
  {
   "cell_type": "code",
   "execution_count": 5,
   "metadata": {},
   "outputs": [
    {
     "name": "stderr",
     "output_type": "stream",
     "text": [
      "100%|██████████| 16/16 [00:00<00:00, 69.79it/s]\n",
      "  0%|          | 0/1 [00:00<?, ?it/s]"
     ]
    },
    {
     "name": "stdout",
     "output_type": "stream",
     "text": [
      "Registering...\n"
     ]
    },
    {
     "name": "stderr",
     "output_type": "stream",
     "text": [
      "100%|██████████| 1/1 [00:00<00:00,  1.19it/s]\n"
     ]
    },
    {
     "name": "stdout",
     "output_type": "stream",
     "text": [
      "For round: 0, Shift: [  5.764 -22.812], Error: 0.6056384146332833\n",
      "For round: 1, Shift: [  1.857 -22.158], Error: 0.6367406189757153\n",
      "For round: 2, Shift: [ -3.181 -21.871], Error: 0.6762645577802315\n",
      "For round: 3, Shift: [ -4.343 -14.904], Error: 0.6818543622551125\n",
      "WhiteTophat Filtering...\n"
     ]
    },
    {
     "name": "stderr",
     "output_type": "stream",
     "text": [
      "16it [00:06,  2.39it/s]\n"
     ]
    },
    {
     "name": "stdout",
     "output_type": "stream",
     "text": [
      "Detecting spots...\n"
     ]
    },
    {
     "name": "stderr",
     "output_type": "stream",
     "text": [
      "  0%|          | 0/1 [00:00<?, ?it/s]"
     ]
    },
    {
     "name": "stdout",
     "output_type": "stream",
     "text": [
      "Decoding...\n",
      "Segmenting...\n"
     ]
    },
    {
     "name": "stderr",
     "output_type": "stream",
     "text": [
      "100%|██████████| 1/1 [00:00<00:00,  1.30it/s]\n",
      "/Users/ambrosecarr/projects/spacetx/starfish/.venv/lib/python3.6/site-packages/skimage/util/arraycrop.py:175: FutureWarning: Using a non-tuple sequence for multidimensional indexing is deprecated; use `arr[tuple(seq)]` instead of `arr[seq]`. In the future this will be interpreted as an array index, `arr[np.array(seq)]`, which will result either in an error or a different result.\n",
      "  cropped = np.array(ar[slices], order=order, copy=True)\n",
      "100%|██████████| 16/16 [00:11<00:00,  1.44it/s]\n",
      "  0%|          | 0/1 [00:00<?, ?it/s]"
     ]
    },
    {
     "name": "stdout",
     "output_type": "stream",
     "text": [
      "Registering...\n"
     ]
    },
    {
     "name": "stderr",
     "output_type": "stream",
     "text": [
      "100%|██████████| 1/1 [00:00<00:00,  1.27it/s]\n"
     ]
    },
    {
     "name": "stdout",
     "output_type": "stream",
     "text": [
      "For round: 0, Shift: [ 3.065 -5.115], Error: 0.4898523193795024\n",
      "For round: 1, Shift: [0.252 2.178], Error: 0.5625204205193758\n",
      "For round: 2, Shift: [-2.807 -4.098], Error: 0.613845138434974\n",
      "For round: 3, Shift: [-3.449 -0.095], Error: 0.6296494759997618\n",
      "WhiteTophat Filtering...\n"
     ]
    },
    {
     "name": "stderr",
     "output_type": "stream",
     "text": [
      "16it [00:06,  2.30it/s]\n"
     ]
    },
    {
     "name": "stdout",
     "output_type": "stream",
     "text": [
      "Detecting spots...\n"
     ]
    },
    {
     "name": "stderr",
     "output_type": "stream",
     "text": [
      "  0%|          | 0/1 [00:00<?, ?it/s]"
     ]
    },
    {
     "name": "stdout",
     "output_type": "stream",
     "text": [
      "Decoding...\n",
      "Segmenting...\n"
     ]
    },
    {
     "name": "stderr",
     "output_type": "stream",
     "text": [
      "100%|██████████| 1/1 [00:00<00:00,  1.30it/s]\n",
      "/Users/ambrosecarr/projects/spacetx/starfish/.venv/lib/python3.6/site-packages/skimage/util/arraycrop.py:175: FutureWarning: Using a non-tuple sequence for multidimensional indexing is deprecated; use `arr[tuple(seq)]` instead of `arr[seq]`. In the future this will be interpreted as an array index, `arr[np.array(seq)]`, which will result either in an error or a different result.\n",
      "  cropped = np.array(ar[slices], order=order, copy=True)\n",
      "100%|██████████| 16/16 [00:12<00:00,  1.23it/s]\n",
      "  0%|          | 0/1 [00:00<?, ?it/s]"
     ]
    },
    {
     "name": "stdout",
     "output_type": "stream",
     "text": [
      "Registering...\n"
     ]
    },
    {
     "name": "stderr",
     "output_type": "stream",
     "text": [
      "100%|██████████| 1/1 [00:00<00:00,  1.16it/s]\n"
     ]
    },
    {
     "name": "stdout",
     "output_type": "stream",
     "text": [
      "For round: 0, Shift: [-1.808  3.567], Error: 0.5561714678967841\n",
      "For round: 1, Shift: [-2.451  1.219], Error: 0.5894303335869647\n",
      "For round: 2, Shift: [-6.555  1.104], Error: 0.6329123144027058\n",
      "For round: 3, Shift: [-9.229  3.78 ], Error: 0.6513869675118502\n",
      "WhiteTophat Filtering...\n"
     ]
    },
    {
     "name": "stderr",
     "output_type": "stream",
     "text": [
      "16it [00:07,  1.19s/it]\n"
     ]
    },
    {
     "name": "stdout",
     "output_type": "stream",
     "text": [
      "Detecting spots...\n"
     ]
    },
    {
     "name": "stderr",
     "output_type": "stream",
     "text": [
      "  0%|          | 0/1 [00:00<?, ?it/s]"
     ]
    },
    {
     "name": "stdout",
     "output_type": "stream",
     "text": [
      "Decoding...\n",
      "Segmenting...\n"
     ]
    },
    {
     "name": "stderr",
     "output_type": "stream",
     "text": [
      "100%|██████████| 1/1 [00:00<00:00,  1.08it/s]\n",
      "/Users/ambrosecarr/projects/spacetx/starfish/.venv/lib/python3.6/site-packages/skimage/util/arraycrop.py:175: FutureWarning: Using a non-tuple sequence for multidimensional indexing is deprecated; use `arr[tuple(seq)]` instead of `arr[seq]`. In the future this will be interpreted as an array index, `arr[np.array(seq)]`, which will result either in an error or a different result.\n",
      "  cropped = np.array(ar[slices], order=order, copy=True)\n",
      "100%|██████████| 16/16 [00:10<00:00,  1.61it/s]\n",
      "  0%|          | 0/1 [00:00<?, ?it/s]"
     ]
    },
    {
     "name": "stdout",
     "output_type": "stream",
     "text": [
      "Registering...\n"
     ]
    },
    {
     "name": "stderr",
     "output_type": "stream",
     "text": [
      "100%|██████████| 1/1 [00:00<00:00,  1.84it/s]\n"
     ]
    },
    {
     "name": "stdout",
     "output_type": "stream",
     "text": [
      "For round: 0, Shift: [ 133.103 -453.749], Error: 0.746944605692865\n",
      "For round: 1, Shift: [-4.699  1.189], Error: 0.7383290428853003\n",
      "For round: 2, Shift: [ 124.773 -377.203], Error: 0.732972829777606\n",
      "For round: 3, Shift: [ 134.035 -372.535], Error: 0.7284738553713639\n",
      "WhiteTophat Filtering...\n"
     ]
    },
    {
     "name": "stderr",
     "output_type": "stream",
     "text": [
      "16it [00:07,  2.20it/s]\n"
     ]
    },
    {
     "name": "stdout",
     "output_type": "stream",
     "text": [
      "Detecting spots...\n"
     ]
    },
    {
     "name": "stderr",
     "output_type": "stream",
     "text": [
      "  0%|          | 0/1 [00:00<?, ?it/s]"
     ]
    },
    {
     "name": "stdout",
     "output_type": "stream",
     "text": [
      "Decoding...\n",
      "Segmenting...\n"
     ]
    },
    {
     "name": "stderr",
     "output_type": "stream",
     "text": [
      "100%|██████████| 1/1 [00:00<00:00,  1.17it/s]\n",
      "/Users/ambrosecarr/projects/spacetx/starfish/.venv/lib/python3.6/site-packages/skimage/util/arraycrop.py:175: FutureWarning: Using a non-tuple sequence for multidimensional indexing is deprecated; use `arr[tuple(seq)]` instead of `arr[seq]`. In the future this will be interpreted as an array index, `arr[np.array(seq)]`, which will result either in an error or a different result.\n",
      "  cropped = np.array(ar[slices], order=order, copy=True)\n",
      "100%|██████████| 16/16 [00:08<00:00,  1.55it/s]\n",
      "  0%|          | 0/1 [00:00<?, ?it/s]"
     ]
    },
    {
     "name": "stdout",
     "output_type": "stream",
     "text": [
      "Registering...\n"
     ]
    },
    {
     "name": "stderr",
     "output_type": "stream",
     "text": [
      "100%|██████████| 1/1 [00:00<00:00,  1.40it/s]\n"
     ]
    },
    {
     "name": "stdout",
     "output_type": "stream",
     "text": [
      "For round: 0, Shift: [-0.299  3.407], Error: 0.4996617236782269\n",
      "For round: 1, Shift: [ 2.319 -5.933], Error: 0.4838106934931146\n",
      "For round: 2, Shift: [ -1.069 -11.775], Error: 0.48853151684371926\n",
      "For round: 3, Shift: [ -3.614 -12.173], Error: 0.4896257969014391\n",
      "WhiteTophat Filtering...\n"
     ]
    },
    {
     "name": "stderr",
     "output_type": "stream",
     "text": [
      "16it [00:07,  2.17it/s]\n"
     ]
    },
    {
     "name": "stdout",
     "output_type": "stream",
     "text": [
      "Detecting spots...\n"
     ]
    },
    {
     "name": "stderr",
     "output_type": "stream",
     "text": [
      "  0%|          | 0/1 [00:00<?, ?it/s]"
     ]
    },
    {
     "name": "stdout",
     "output_type": "stream",
     "text": [
      "Decoding...\n",
      "Segmenting...\n"
     ]
    },
    {
     "name": "stderr",
     "output_type": "stream",
     "text": [
      "100%|██████████| 1/1 [00:00<00:00,  2.54it/s]\n",
      "/Users/ambrosecarr/projects/spacetx/starfish/.venv/lib/python3.6/site-packages/skimage/util/arraycrop.py:175: FutureWarning: Using a non-tuple sequence for multidimensional indexing is deprecated; use `arr[tuple(seq)]` instead of `arr[seq]`. In the future this will be interpreted as an array index, `arr[np.array(seq)]`, which will result either in an error or a different result.\n",
      "  cropped = np.array(ar[slices], order=order, copy=True)\n",
      "100%|██████████| 16/16 [00:11<00:00,  1.31it/s]\n",
      "  0%|          | 0/1 [00:00<?, ?it/s]"
     ]
    },
    {
     "name": "stdout",
     "output_type": "stream",
     "text": [
      "Registering...\n"
     ]
    },
    {
     "name": "stderr",
     "output_type": "stream",
     "text": [
      "100%|██████████| 1/1 [00:00<00:00,  1.83it/s]\n"
     ]
    },
    {
     "name": "stdout",
     "output_type": "stream",
     "text": [
      "For round: 0, Shift: [-10.246  -6.435], Error: 0.6557431460758627\n",
      "For round: 1, Shift: [-8.019 -8.717], Error: 0.6615678430296742\n",
      "For round: 2, Shift: [-9.005 -4.063], Error: 0.6905791873259142\n",
      "For round: 3, Shift: [-2.5   -2.925], Error: 0.7101749918010156\n",
      "WhiteTophat Filtering...\n"
     ]
    },
    {
     "name": "stderr",
     "output_type": "stream",
     "text": [
      "16it [00:07,  2.06it/s]\n"
     ]
    },
    {
     "name": "stdout",
     "output_type": "stream",
     "text": [
      "Detecting spots...\n"
     ]
    },
    {
     "name": "stderr",
     "output_type": "stream",
     "text": [
      "  0%|          | 0/1 [00:00<?, ?it/s]"
     ]
    },
    {
     "name": "stdout",
     "output_type": "stream",
     "text": [
      "Decoding...\n",
      "Segmenting...\n"
     ]
    },
    {
     "name": "stderr",
     "output_type": "stream",
     "text": [
      "100%|██████████| 1/1 [00:02<00:00,  2.92s/it]\n",
      "/Users/ambrosecarr/projects/spacetx/starfish/.venv/lib/python3.6/site-packages/skimage/util/arraycrop.py:175: FutureWarning: Using a non-tuple sequence for multidimensional indexing is deprecated; use `arr[tuple(seq)]` instead of `arr[seq]`. In the future this will be interpreted as an array index, `arr[np.array(seq)]`, which will result either in an error or a different result.\n",
      "  cropped = np.array(ar[slices], order=order, copy=True)\n",
      "100%|██████████| 16/16 [00:11<00:00,  1.45it/s]\n",
      "  0%|          | 0/1 [00:00<?, ?it/s]"
     ]
    },
    {
     "name": "stdout",
     "output_type": "stream",
     "text": [
      "Registering...\n"
     ]
    },
    {
     "name": "stderr",
     "output_type": "stream",
     "text": [
      "100%|██████████| 1/1 [00:00<00:00,  1.01it/s]\n"
     ]
    },
    {
     "name": "stdout",
     "output_type": "stream",
     "text": [
      "For round: 0, Shift: [-11.33   -2.251], Error: 0.6100799539698156\n",
      "For round: 1, Shift: [-6.843 -1.734], Error: 0.6391988501053003\n",
      "For round: 2, Shift: [-4.304 -0.195], Error: 0.6680768244027996\n",
      "For round: 3, Shift: [ 1.29  -1.881], Error: 0.6869039312192722\n",
      "WhiteTophat Filtering...\n"
     ]
    },
    {
     "name": "stderr",
     "output_type": "stream",
     "text": [
      "16it [00:07,  2.16it/s]\n"
     ]
    },
    {
     "name": "stdout",
     "output_type": "stream",
     "text": [
      "Detecting spots...\n"
     ]
    },
    {
     "name": "stderr",
     "output_type": "stream",
     "text": [
      "  0%|          | 0/1 [00:00<?, ?it/s]"
     ]
    },
    {
     "name": "stdout",
     "output_type": "stream",
     "text": [
      "Decoding...\n",
      "Segmenting...\n"
     ]
    },
    {
     "name": "stderr",
     "output_type": "stream",
     "text": [
      "100%|██████████| 1/1 [00:00<00:00,  1.29it/s]\n",
      "/Users/ambrosecarr/projects/spacetx/starfish/.venv/lib/python3.6/site-packages/skimage/util/arraycrop.py:175: FutureWarning: Using a non-tuple sequence for multidimensional indexing is deprecated; use `arr[tuple(seq)]` instead of `arr[seq]`. In the future this will be interpreted as an array index, `arr[np.array(seq)]`, which will result either in an error or a different result.\n",
      "  cropped = np.array(ar[slices], order=order, copy=True)\n",
      "100%|██████████| 16/16 [00:17<00:00,  1.30it/s]\n",
      "  0%|          | 0/1 [00:00<?, ?it/s]"
     ]
    },
    {
     "name": "stdout",
     "output_type": "stream",
     "text": [
      "Registering...\n"
     ]
    },
    {
     "name": "stderr",
     "output_type": "stream",
     "text": [
      "100%|██████████| 1/1 [00:00<00:00,  1.04it/s]\n"
     ]
    },
    {
     "name": "stdout",
     "output_type": "stream",
     "text": [
      "For round: 0, Shift: [-10.624  -0.476], Error: 0.6352344781872151\n",
      "For round: 1, Shift: [-6.859 -2.698], Error: 0.6596387391610556\n",
      "For round: 2, Shift: [-9.679 -2.728], Error: 0.683052017633615\n",
      "For round: 3, Shift: [-4.512 -1.413], Error: 0.6966824593681048\n",
      "WhiteTophat Filtering...\n"
     ]
    },
    {
     "name": "stderr",
     "output_type": "stream",
     "text": [
      "16it [00:06,  2.31it/s]\n"
     ]
    },
    {
     "name": "stdout",
     "output_type": "stream",
     "text": [
      "Detecting spots...\n"
     ]
    },
    {
     "name": "stderr",
     "output_type": "stream",
     "text": [
      "  0%|          | 0/1 [00:00<?, ?it/s]"
     ]
    },
    {
     "name": "stdout",
     "output_type": "stream",
     "text": [
      "Decoding...\n",
      "Segmenting...\n"
     ]
    },
    {
     "name": "stderr",
     "output_type": "stream",
     "text": [
      "100%|██████████| 1/1 [00:01<00:00,  1.09s/it]\n",
      "/Users/ambrosecarr/projects/spacetx/starfish/.venv/lib/python3.6/site-packages/skimage/util/arraycrop.py:175: FutureWarning: Using a non-tuple sequence for multidimensional indexing is deprecated; use `arr[tuple(seq)]` instead of `arr[seq]`. In the future this will be interpreted as an array index, `arr[np.array(seq)]`, which will result either in an error or a different result.\n",
      "  cropped = np.array(ar[slices], order=order, copy=True)\n",
      "100%|██████████| 16/16 [00:08<00:00,  1.77it/s]\n",
      "  0%|          | 0/1 [00:00<?, ?it/s]"
     ]
    },
    {
     "name": "stdout",
     "output_type": "stream",
     "text": [
      "Registering...\n"
     ]
    },
    {
     "name": "stderr",
     "output_type": "stream",
     "text": [
      "100%|██████████| 1/1 [00:00<00:00,  2.17it/s]\n"
     ]
    },
    {
     "name": "stdout",
     "output_type": "stream",
     "text": [
      "For round: 0, Shift: [-2.697 -1.605], Error: 0.6441786843756427\n",
      "For round: 1, Shift: [-3.764 -1.598], Error: 0.6572305017892418\n",
      "For round: 2, Shift: [-8.35  -0.583], Error: 0.6881289392518284\n",
      "For round: 3, Shift: [-3.488  2.194], Error: 0.6998885030608957\n",
      "WhiteTophat Filtering...\n"
     ]
    },
    {
     "name": "stderr",
     "output_type": "stream",
     "text": [
      "16it [00:06,  2.33it/s]\n"
     ]
    },
    {
     "name": "stdout",
     "output_type": "stream",
     "text": [
      "Detecting spots...\n"
     ]
    },
    {
     "name": "stderr",
     "output_type": "stream",
     "text": [
      "  0%|          | 0/1 [00:00<?, ?it/s]"
     ]
    },
    {
     "name": "stdout",
     "output_type": "stream",
     "text": [
      "Decoding...\n",
      "Segmenting...\n"
     ]
    },
    {
     "name": "stderr",
     "output_type": "stream",
     "text": [
      "100%|██████████| 1/1 [00:00<00:00,  1.00it/s]\n",
      "/Users/ambrosecarr/projects/spacetx/starfish/.venv/lib/python3.6/site-packages/skimage/util/arraycrop.py:175: FutureWarning: Using a non-tuple sequence for multidimensional indexing is deprecated; use `arr[tuple(seq)]` instead of `arr[seq]`. In the future this will be interpreted as an array index, `arr[np.array(seq)]`, which will result either in an error or a different result.\n",
      "  cropped = np.array(ar[slices], order=order, copy=True)\n",
      "100%|██████████| 16/16 [00:12<00:00,  1.43it/s]\n",
      "  0%|          | 0/1 [00:00<?, ?it/s]"
     ]
    },
    {
     "name": "stdout",
     "output_type": "stream",
     "text": [
      "Registering...\n"
     ]
    },
    {
     "name": "stderr",
     "output_type": "stream",
     "text": [
      "100%|██████████| 1/1 [00:00<00:00,  2.16it/s]\n"
     ]
    },
    {
     "name": "stdout",
     "output_type": "stream",
     "text": [
      "For round: 0, Shift: [-2.881 -0.834], Error: 0.7085059328794236\n",
      "For round: 1, Shift: [-2.134 -1.451], Error: 0.7209790098366368\n",
      "For round: 2, Shift: [-7.66  -5.005], Error: 0.729063375272228\n",
      "For round: 3, Shift: [-5.833  0.544], Error: 0.7351353251867463\n",
      "WhiteTophat Filtering...\n"
     ]
    },
    {
     "name": "stderr",
     "output_type": "stream",
     "text": [
      "16it [00:07,  2.25it/s]\n"
     ]
    },
    {
     "name": "stdout",
     "output_type": "stream",
     "text": [
      "Detecting spots...\n"
     ]
    },
    {
     "name": "stderr",
     "output_type": "stream",
     "text": [
      "  0%|          | 0/1 [00:00<?, ?it/s]"
     ]
    },
    {
     "name": "stdout",
     "output_type": "stream",
     "text": [
      "Decoding...\n",
      "Segmenting...\n"
     ]
    },
    {
     "name": "stderr",
     "output_type": "stream",
     "text": [
      "100%|██████████| 1/1 [00:00<00:00,  1.08it/s]\n",
      "/Users/ambrosecarr/projects/spacetx/starfish/.venv/lib/python3.6/site-packages/skimage/util/arraycrop.py:175: FutureWarning: Using a non-tuple sequence for multidimensional indexing is deprecated; use `arr[tuple(seq)]` instead of `arr[seq]`. In the future this will be interpreted as an array index, `arr[np.array(seq)]`, which will result either in an error or a different result.\n",
      "  cropped = np.array(ar[slices], order=order, copy=True)\n",
      "100%|██████████| 16/16 [00:13<00:00,  1.51it/s]\n",
      "  0%|          | 0/1 [00:00<?, ?it/s]"
     ]
    },
    {
     "name": "stdout",
     "output_type": "stream",
     "text": [
      "Registering...\n"
     ]
    },
    {
     "name": "stderr",
     "output_type": "stream",
     "text": [
      "100%|██████████| 1/1 [00:00<00:00,  1.20it/s]\n"
     ]
    },
    {
     "name": "stdout",
     "output_type": "stream",
     "text": [
      "For round: 0, Shift: [ 0.912 -5.046], Error: 0.7150085539743756\n",
      "For round: 1, Shift: [-0.953  1.232], Error: 0.7029501111223228\n",
      "For round: 2, Shift: [-9.854  0.897], Error: 0.6960938197620649\n",
      "For round: 3, Shift: [-2.304 -2.323], Error: 0.6934318557992479\n",
      "WhiteTophat Filtering...\n"
     ]
    },
    {
     "name": "stderr",
     "output_type": "stream",
     "text": [
      "16it [00:06,  2.36it/s]\n"
     ]
    },
    {
     "name": "stdout",
     "output_type": "stream",
     "text": [
      "Detecting spots...\n"
     ]
    },
    {
     "name": "stderr",
     "output_type": "stream",
     "text": [
      "  0%|          | 0/1 [00:00<?, ?it/s]"
     ]
    },
    {
     "name": "stdout",
     "output_type": "stream",
     "text": [
      "Decoding...\n",
      "Segmenting...\n"
     ]
    },
    {
     "name": "stderr",
     "output_type": "stream",
     "text": [
      "100%|██████████| 1/1 [00:00<00:00,  1.38it/s]\n",
      "/Users/ambrosecarr/projects/spacetx/starfish/.venv/lib/python3.6/site-packages/skimage/util/arraycrop.py:175: FutureWarning: Using a non-tuple sequence for multidimensional indexing is deprecated; use `arr[tuple(seq)]` instead of `arr[seq]`. In the future this will be interpreted as an array index, `arr[np.array(seq)]`, which will result either in an error or a different result.\n",
      "  cropped = np.array(ar[slices], order=order, copy=True)\n",
      "100%|██████████| 16/16 [00:10<00:00,  1.36it/s]\n",
      "  0%|          | 0/1 [00:00<?, ?it/s]"
     ]
    },
    {
     "name": "stdout",
     "output_type": "stream",
     "text": [
      "Registering...\n"
     ]
    },
    {
     "name": "stderr",
     "output_type": "stream",
     "text": [
      "100%|██████████| 1/1 [00:00<00:00,  1.21it/s]\n"
     ]
    },
    {
     "name": "stdout",
     "output_type": "stream",
     "text": [
      "For round: 0, Shift: [0.924 5.806], Error: 0.461966834327716\n",
      "For round: 1, Shift: [-3.918 -0.997], Error: 0.4516471000119866\n",
      "For round: 2, Shift: [-8.521  0.266], Error: 0.4478919221330933\n",
      "For round: 3, Shift: [-6.239  3.368], Error: 0.44810461871269275\n",
      "WhiteTophat Filtering...\n"
     ]
    },
    {
     "name": "stderr",
     "output_type": "stream",
     "text": [
      "16it [00:06,  1.25it/s]\n"
     ]
    },
    {
     "name": "stdout",
     "output_type": "stream",
     "text": [
      "Detecting spots...\n"
     ]
    },
    {
     "name": "stderr",
     "output_type": "stream",
     "text": [
      "  0%|          | 0/1 [00:00<?, ?it/s]"
     ]
    },
    {
     "name": "stdout",
     "output_type": "stream",
     "text": [
      "Decoding...\n",
      "Segmenting...\n"
     ]
    },
    {
     "name": "stderr",
     "output_type": "stream",
     "text": [
      "100%|██████████| 1/1 [00:00<00:00,  1.39it/s]\n",
      "/Users/ambrosecarr/projects/spacetx/starfish/.venv/lib/python3.6/site-packages/skimage/util/arraycrop.py:175: FutureWarning: Using a non-tuple sequence for multidimensional indexing is deprecated; use `arr[tuple(seq)]` instead of `arr[seq]`. In the future this will be interpreted as an array index, `arr[np.array(seq)]`, which will result either in an error or a different result.\n",
      "  cropped = np.array(ar[slices], order=order, copy=True)\n",
      "100%|██████████| 16/16 [00:10<00:00,  1.34it/s]\n",
      "  0%|          | 0/1 [00:00<?, ?it/s]"
     ]
    },
    {
     "name": "stdout",
     "output_type": "stream",
     "text": [
      "Registering...\n"
     ]
    },
    {
     "name": "stderr",
     "output_type": "stream",
     "text": [
      "100%|██████████| 1/1 [00:01<00:00,  1.24s/it]\n"
     ]
    },
    {
     "name": "stdout",
     "output_type": "stream",
     "text": [
      "For round: 0, Shift: [-5.038  2.338], Error: 0.528246262625258\n",
      "For round: 1, Shift: [ 0.125 -7.786], Error: 0.515954695026224\n",
      "For round: 2, Shift: [-4.668 -0.047], Error: 0.5036158435703281\n",
      "For round: 3, Shift: [-3.183 -6.482], Error: 0.5033998823526665\n",
      "WhiteTophat Filtering...\n"
     ]
    },
    {
     "name": "stderr",
     "output_type": "stream",
     "text": [
      "16it [00:06,  1.37it/s]\n"
     ]
    },
    {
     "name": "stdout",
     "output_type": "stream",
     "text": [
      "Detecting spots...\n"
     ]
    },
    {
     "name": "stderr",
     "output_type": "stream",
     "text": [
      "  0%|          | 0/1 [00:00<?, ?it/s]"
     ]
    },
    {
     "name": "stdout",
     "output_type": "stream",
     "text": [
      "Decoding...\n",
      "Segmenting...\n"
     ]
    },
    {
     "name": "stderr",
     "output_type": "stream",
     "text": [
      "100%|██████████| 1/1 [00:00<00:00,  1.41it/s]\n",
      "/Users/ambrosecarr/projects/spacetx/starfish/.venv/lib/python3.6/site-packages/skimage/util/arraycrop.py:175: FutureWarning: Using a non-tuple sequence for multidimensional indexing is deprecated; use `arr[tuple(seq)]` instead of `arr[seq]`. In the future this will be interpreted as an array index, `arr[np.array(seq)]`, which will result either in an error or a different result.\n",
      "  cropped = np.array(ar[slices], order=order, copy=True)\n",
      "100%|██████████| 16/16 [00:14<00:00,  1.44it/s]\n",
      "  0%|          | 0/1 [00:00<?, ?it/s]"
     ]
    },
    {
     "name": "stdout",
     "output_type": "stream",
     "text": [
      "Registering...\n"
     ]
    },
    {
     "name": "stderr",
     "output_type": "stream",
     "text": [
      "100%|██████████| 1/1 [00:00<00:00,  1.18it/s]\n"
     ]
    },
    {
     "name": "stdout",
     "output_type": "stream",
     "text": [
      "For round: 0, Shift: [-1.656 -0.026], Error: 0.33118041016969935\n",
      "For round: 1, Shift: [31.941 -0.196], Error: 0.3363606295302447\n",
      "For round: 2, Shift: [27.425 -0.22 ], Error: 0.31993354753259157\n",
      "For round: 3, Shift: [27.831 -5.998], Error: 0.31706702917191987\n",
      "WhiteTophat Filtering...\n"
     ]
    },
    {
     "name": "stderr",
     "output_type": "stream",
     "text": [
      "16it [00:06,  2.40it/s]\n"
     ]
    },
    {
     "name": "stdout",
     "output_type": "stream",
     "text": [
      "Detecting spots...\n"
     ]
    },
    {
     "name": "stderr",
     "output_type": "stream",
     "text": [
      "  0%|          | 0/1 [00:00<?, ?it/s]"
     ]
    },
    {
     "name": "stdout",
     "output_type": "stream",
     "text": [
      "Decoding...\n",
      "Segmenting...\n"
     ]
    },
    {
     "name": "stderr",
     "output_type": "stream",
     "text": [
      "100%|██████████| 1/1 [00:00<00:00,  1.70it/s]\n",
      "/Users/ambrosecarr/projects/spacetx/starfish/.venv/lib/python3.6/site-packages/skimage/util/arraycrop.py:175: FutureWarning: Using a non-tuple sequence for multidimensional indexing is deprecated; use `arr[tuple(seq)]` instead of `arr[seq]`. In the future this will be interpreted as an array index, `arr[np.array(seq)]`, which will result either in an error or a different result.\n",
      "  cropped = np.array(ar[slices], order=order, copy=True)\n",
      "100%|██████████| 16/16 [00:21<00:00,  1.51it/s]\n",
      "  0%|          | 0/1 [00:00<?, ?it/s]"
     ]
    },
    {
     "name": "stdout",
     "output_type": "stream",
     "text": [
      "Registering...\n"
     ]
    },
    {
     "name": "stderr",
     "output_type": "stream",
     "text": [
      "100%|██████████| 1/1 [00:01<00:00,  1.27s/it]\n"
     ]
    },
    {
     "name": "stdout",
     "output_type": "stream",
     "text": [
      "For round: 0, Shift: [-1.073  5.391], Error: 0.7750264049132243\n",
      "For round: 1, Shift: [-3.625  1.598], Error: 0.7549719713200158\n",
      "For round: 2, Shift: [24.865  4.673], Error: 0.7742058543628357\n",
      "For round: 3, Shift: [29.905  4.721], Error: 0.7925036448903133\n",
      "WhiteTophat Filtering...\n"
     ]
    },
    {
     "name": "stderr",
     "output_type": "stream",
     "text": [
      "16it [00:06,  2.40it/s]\n"
     ]
    },
    {
     "name": "stdout",
     "output_type": "stream",
     "text": [
      "Detecting spots...\n"
     ]
    },
    {
     "name": "stderr",
     "output_type": "stream",
     "text": [
      "  0%|          | 0/1 [00:00<?, ?it/s]"
     ]
    },
    {
     "name": "stdout",
     "output_type": "stream",
     "text": [
      "Decoding...\n",
      "Segmenting...\n"
     ]
    },
    {
     "name": "stderr",
     "output_type": "stream",
     "text": [
      "100%|██████████| 1/1 [00:02<00:00,  2.58s/it]\n",
      "/Users/ambrosecarr/projects/spacetx/starfish/.venv/lib/python3.6/site-packages/skimage/util/arraycrop.py:175: FutureWarning: Using a non-tuple sequence for multidimensional indexing is deprecated; use `arr[tuple(seq)]` instead of `arr[seq]`. In the future this will be interpreted as an array index, `arr[np.array(seq)]`, which will result either in an error or a different result.\n",
      "  cropped = np.array(ar[slices], order=order, copy=True)\n",
      "100%|██████████| 16/16 [00:15<00:00,  1.62s/it]\n",
      "  0%|          | 0/1 [00:00<?, ?it/s]"
     ]
    },
    {
     "name": "stdout",
     "output_type": "stream",
     "text": [
      "Registering...\n"
     ]
    },
    {
     "name": "stderr",
     "output_type": "stream",
     "text": [
      "100%|██████████| 1/1 [00:00<00:00,  1.21it/s]\n"
     ]
    },
    {
     "name": "stdout",
     "output_type": "stream",
     "text": [
      "For round: 0, Shift: [ 8.518 -6.594], Error: 0.5728534665299959\n",
      "For round: 1, Shift: [4.615 1.602], Error: 0.6156855325607956\n",
      "For round: 2, Shift: [31.796 -2.154], Error: 0.6605211024537345\n",
      "For round: 3, Shift: [ 3.201 -0.185], Error: 0.6564883479559945\n",
      "WhiteTophat Filtering...\n"
     ]
    },
    {
     "name": "stderr",
     "output_type": "stream",
     "text": [
      "16it [00:06,  2.39it/s]\n"
     ]
    },
    {
     "name": "stdout",
     "output_type": "stream",
     "text": [
      "Detecting spots...\n"
     ]
    },
    {
     "name": "stderr",
     "output_type": "stream",
     "text": [
      "  0%|          | 0/1 [00:00<?, ?it/s]"
     ]
    },
    {
     "name": "stdout",
     "output_type": "stream",
     "text": [
      "Decoding...\n",
      "Segmenting...\n"
     ]
    },
    {
     "name": "stderr",
     "output_type": "stream",
     "text": [
      "100%|██████████| 1/1 [00:00<00:00,  1.90it/s]\n",
      "/Users/ambrosecarr/projects/spacetx/starfish/.venv/lib/python3.6/site-packages/skimage/util/arraycrop.py:175: FutureWarning: Using a non-tuple sequence for multidimensional indexing is deprecated; use `arr[tuple(seq)]` instead of `arr[seq]`. In the future this will be interpreted as an array index, `arr[np.array(seq)]`, which will result either in an error or a different result.\n",
      "  cropped = np.array(ar[slices], order=order, copy=True)\n"
     ]
    }
   ],
   "source": [
    "decoded_intensities, regions = process_experiment(exp)"
   ]
  },
  {
   "cell_type": "markdown",
   "metadata": {},
   "source": [
    "Save the results to file. "
   ]
  },
  {
   "cell_type": "code",
   "execution_count": 50,
   "metadata": {},
   "outputs": [],
   "source": [
    "d = os.path.expanduser('~/scratch/iss_complete')\n",
    "os.makedirs(d)\n",
    "for k, spots in decoded_intensities.items(): \n",
    "    spots.save(os.path.join(d, f'decoded_intensities_{k}.nc'))"
   ]
  },
  {
   "cell_type": "code",
   "execution_count": 52,
   "metadata": {},
   "outputs": [],
   "source": [
    "import pickle\n",
    "for k, v in regions.items():\n",
    "    with open(os.path.join(d, f'regions_{k}.pkl'), 'wb') as f:\n",
    "        pickle.dump(v, f)"
   ]
  },
  {
   "cell_type": "markdown",
   "metadata": {},
   "source": [
    "## Compare to processed results"
   ]
  },
  {
   "cell_type": "markdown",
   "metadata": {},
   "source": [
    "There are results for 16x fields of view available on aws. Compare our copy number to those"
   ]
  },
  {
   "cell_type": "code",
   "execution_count": 14,
   "metadata": {},
   "outputs": [
    {
     "data": {
      "text/plain": [
       "ACTB      772\n",
       "AIB1        1\n",
       "BAG1        4\n",
       "BCL2        3\n",
       "BIRC5       2\n",
       "CCNB1      27\n",
       "CCND1      11\n",
       "CD68        3\n",
       "CTSL2     267\n",
       "EPCAM     102\n",
       "ETV4        7\n",
       "GAPDH     273\n",
       "GUS        11\n",
       "HER2      267\n",
       "MKI67      14\n",
       "MUC1       30\n",
       "MYBL2       4\n",
       "MYC         1\n",
       "RAC1      112\n",
       "RPLP0      31\n",
       "SIX1        2\n",
       "ST-3        3\n",
       "STK15       8\n",
       "TFRC       86\n",
       "TP53       26\n",
       "VEGF       17\n",
       "VIM       127\n",
       "nan      1510\n",
       "dtype: int64"
      ]
     },
     "execution_count": 14,
     "metadata": {},
     "output_type": "execute_result"
    }
   ],
   "source": [
    "results[0]"
   ]
  },
  {
   "cell_type": "code",
   "execution_count": 38,
   "metadata": {},
   "outputs": [],
   "source": [
    "# load the processed results\n",
    "import pandas as pd\n",
    "import numpy as np\n",
    "import os\n",
    "processed_counts = os.path.expanduser('~/Downloads/gene_cnts.csv')\n",
    "benchmark_counts = pd.read_csv(processed_counts, index_col=0, squeeze=True)\n",
    "benchmark_counts.index = [i.strip(\" '\") for i in benchmark_counts.index]\n",
    "benchmark_counts.name = 'publication'\n",
    "\n",
    "# concatenate intensity_tables\n",
    "results = []\n",
    "for table in decoded_intensities.values():\n",
    "    counts = pd.Series(*(np.unique(table['target'], return_counts=True))[::-1])\n",
    "    results.append(counts)\n",
    "starfish_counts = pd.concat([c.to_frame(name='starfish') for c in results], axis=1, sort=True).sum(axis=1)\n",
    "\n",
    "# combine results\n",
    "all_counts = pd.concat([benchmark_counts.to_frame('publication'), starfish_counts.to_frame('starfish')], axis=1, sort=True)\n",
    "all_counts = all_counts.dropna()"
   ]
  },
  {
   "cell_type": "code",
   "execution_count": 48,
   "metadata": {},
   "outputs": [
    {
     "data": {
      "text/plain": [
       "[<matplotlib.lines.Line2D at 0x185cae198>]"
      ]
     },
     "execution_count": 48,
     "metadata": {},
     "output_type": "execute_result"
    },
    {
     "data": {
      "image/png": "[encoded data removed]",
      "text/plain": [
       "<Figure size 432x288 with 1 Axes>"
      ]
     },
     "metadata": {
      "needs_background": "light"
     },
     "output_type": "display_data"
    }
   ],
   "source": [
    "%matplotlib inline\n",
    "import matplotlib.pyplot as plt\n",
    "plt.loglog(all_counts.iloc[:, 0], all_counts.iloc[:, 1], linewidth=0, marker='o')"
   ]
  },
  {
   "cell_type": "code",
   "execution_count": 49,
   "metadata": {},
   "outputs": [
    {
     "data": {
      "text/plain": [
       "(0.9921319998356768, 5.380647269135042e-25)"
      ]
     },
     "execution_count": 49,
     "metadata": {},
     "output_type": "execute_result"
    }
   ],
   "source": [
    "# correlate\n",
    "from scipy.stats import pearsonr\n",
    "pearsonr(all_counts.iloc[:, 0], all_counts.iloc[:, 1])"
   ]
  },
  {
   "cell_type": "markdown",
   "metadata": {},
   "source": [
    "## Stitch fields of view"
   ]
  },
  {
   "cell_type": "code",
   "execution_count": 91,
   "metadata": {},
   "outputs": [
    {
     "data": {
      "text/plain": [
       "16"
      ]
     },
     "execution_count": 91,
     "metadata": {},
     "output_type": "execute_result"
    }
   ],
   "source": [
    "len(decoded_intensities)"
   ]
  },
  {
   "cell_type": "code",
   "execution_count": 80,
   "metadata": {},
   "outputs": [],
   "source": [
    "img = exp['fov_000'].primary_image"
   ]
  },
  {
   "cell_type": "code",
   "execution_count": 82,
   "metadata": {},
   "outputs": [],
   "source": [
    "fov = exp['fov_000']"
   ]
  },
  {
   "cell_type": "code",
   "execution_count": null,
   "metadata": {},
   "outputs": [],
   "source": [
    "# how to stitch together? Assume that things were registered as promised, then all we should need to do is concatenate them, with an adjustment for x, y, z"
   ]
  },
  {
   "cell_type": "code",
   "execution_count": 23,
   "metadata": {},
   "outputs": [],
   "source": [
    "import numpy as np\n",
    "from matplotlib import pyplot as plt\n",
    "\n",
    "from skimage import data\n",
    "from skimage.util import img_as_float\n",
    "from skimage.feature import (corner_harris, corner_subpix, corner_peaks,\n",
    "                             plot_matches)\n",
    "from skimage.transform import warp, AffineTransform\n",
    "from skimage.exposure import rescale_intensity\n",
    "from skimage.color import rgb2gray\n",
    "from skimage.measure import ransac\n",
    "%matplotlib inline\n",
    "\n",
    "# generate synthetic checkerboard image and add gradient for the later matching\n",
    "img_orig = np.zeros(list(test_image.shape) + [3])\n",
    "img_orig[..., 0] = test_image\n",
    "gradient_r, gradient_c = (np.mgrid[0:img_orig.shape[0],\n",
    "                                   0:img_orig.shape[1]]\n",
    "                          / float(img_orig.shape[0]))\n",
    "img_orig[..., 1] = gradient_r\n",
    "img_orig[..., 2] = gradient_c\n",
    "img_orig = rescale_intensity(img_orig)\n",
    "img_orig_gray = rgb2gray(img_orig)\n",
    "\n",
    "# warp synthetic image\n",
    "tform = AffineTransform(scale=(0.9, 0.9), rotation=0.2, translation=(20, -10))\n",
    "img_warped = warp(img_orig, tform.inverse) #, output_shape=(200, 200))\n",
    "img_warped_gray = rgb2gray(img_warped)"
   ]
  },
  {
   "cell_type": "code",
   "execution_count": 24,
   "metadata": {},
   "outputs": [
    {
     "data": {
      "text/plain": [
       "<matplotlib.image.AxesImage at 0x139eec9b0>"
      ]
     },
     "execution_count": 24,
     "metadata": {},
     "output_type": "execute_result"
    },
    {
     "data": {
      "image/png": "[encoded data removed]",
      "text/plain": [
       "<Figure size 432x288 with 1 Axes>"
      ]
     },
     "metadata": {
      "needs_background": "light"
     },
     "output_type": "display_data"
    }
   ],
   "source": [
    "plt.imshow(test_image)"
   ]
  },
  {
   "cell_type": "code",
   "execution_count": 25,
   "metadata": {},
   "outputs": [
    {
     "data": {
      "text/plain": [
       "<matplotlib.image.AxesImage at 0x13a582a90>"
      ]
     },
     "execution_count": 25,
     "metadata": {},
     "output_type": "execute_result"
    },
    {
     "data": {
      "image/png": "[encoded data removed]",
      "text/plain": [
       "<Figure size 432x288 with 1 Axes>"
      ]
     },
     "metadata": {
      "needs_background": "light"
     },
     "output_type": "display_data"
    }
   ],
   "source": [
    "plt.imshow(img_warped_gray)"
   ]
  },
  {
   "cell_type": "code",
   "execution_count": 26,
   "metadata": {},
   "outputs": [
    {
     "name": "stderr",
     "output_type": "stream",
     "text": [
      "/Users/ajc/projects/spacetx/starfish/.venv/lib/python3.6/site-packages/ipykernel_launcher.py:23: RuntimeWarning: overflow encountered in long_scalars\n",
      "/Users/ajc/projects/spacetx/starfish/.venv/lib/python3.6/site-packages/ipykernel_launcher.py:24: RuntimeWarning: overflow encountered in long_scalars\n"
     ]
    },
    {
     "ename": "ValueError",
     "evalue": "operands could not be broadcast together with shapes (738,) (763,) ",
     "output_type": "error",
     "traceback": [
      "\u001b[0;31m---------------------------------------------------------------------------\u001b[0m",
      "\u001b[0;31mValueError\u001b[0m                                Traceback (most recent call last)",
      "\u001b[0;32m<ipython-input-26-e37fac00d26f>\u001b[0m in \u001b[0;36m<module>\u001b[0;34m()\u001b[0m\n\u001b[1;32m     56\u001b[0m \u001b[0;31m# estimate affine transform model using all coordinates\u001b[0m\u001b[0;34m\u001b[0m\u001b[0;34m\u001b[0m\u001b[0m\n\u001b[1;32m     57\u001b[0m \u001b[0mmodel\u001b[0m \u001b[0;34m=\u001b[0m \u001b[0mAffineTransform\u001b[0m\u001b[0;34m(\u001b[0m\u001b[0;34m)\u001b[0m\u001b[0;34m\u001b[0m\u001b[0m\n\u001b[0;32m---> 58\u001b[0;31m \u001b[0mmodel\u001b[0m\u001b[0;34m.\u001b[0m\u001b[0mestimate\u001b[0m\u001b[0;34m(\u001b[0m\u001b[0msrc\u001b[0m\u001b[0;34m,\u001b[0m \u001b[0mdst\u001b[0m\u001b[0;34m)\u001b[0m\u001b[0;34m\u001b[0m\u001b[0m\n\u001b[0m\u001b[1;32m     59\u001b[0m \u001b[0;34m\u001b[0m\u001b[0m\n\u001b[1;32m     60\u001b[0m \u001b[0;31m# robustly estimate affine transform model with RANSAC\u001b[0m\u001b[0;34m\u001b[0m\u001b[0;34m\u001b[0m\u001b[0m\n",
      "\u001b[0;32m~/projects/spacetx/starfish/.venv/lib/python3.6/site-packages/skimage/transform/_geometric.py\u001b[0m in \u001b[0;36mestimate\u001b[0;34m(self, src, dst)\u001b[0m\n\u001b[1;32m    664\u001b[0m         \u001b[0mA\u001b[0m\u001b[0;34m[\u001b[0m\u001b[0;34m:\u001b[0m\u001b[0mrows\u001b[0m\u001b[0;34m,\u001b[0m \u001b[0;36m1\u001b[0m\u001b[0;34m]\u001b[0m \u001b[0;34m=\u001b[0m \u001b[0mys\u001b[0m\u001b[0;34m\u001b[0m\u001b[0m\n\u001b[1;32m    665\u001b[0m         \u001b[0mA\u001b[0m\u001b[0;34m[\u001b[0m\u001b[0;34m:\u001b[0m\u001b[0mrows\u001b[0m\u001b[0;34m,\u001b[0m \u001b[0;36m2\u001b[0m\u001b[0;34m]\u001b[0m \u001b[0;34m=\u001b[0m \u001b[0;36m1\u001b[0m\u001b[0;34m\u001b[0m\u001b[0m\n\u001b[0;32m--> 666\u001b[0;31m         \u001b[0mA\u001b[0m\u001b[0;34m[\u001b[0m\u001b[0;34m:\u001b[0m\u001b[0mrows\u001b[0m\u001b[0;34m,\u001b[0m \u001b[0;36m6\u001b[0m\u001b[0;34m]\u001b[0m \u001b[0;34m=\u001b[0m \u001b[0;34m-\u001b[0m \u001b[0mxd\u001b[0m \u001b[0;34m*\u001b[0m \u001b[0mxs\u001b[0m\u001b[0;34m\u001b[0m\u001b[0m\n\u001b[0m\u001b[1;32m    667\u001b[0m         \u001b[0mA\u001b[0m\u001b[0;34m[\u001b[0m\u001b[0;34m:\u001b[0m\u001b[0mrows\u001b[0m\u001b[0;34m,\u001b[0m \u001b[0;36m7\u001b[0m\u001b[0;34m]\u001b[0m \u001b[0;34m=\u001b[0m \u001b[0;34m-\u001b[0m \u001b[0mxd\u001b[0m \u001b[0;34m*\u001b[0m \u001b[0mys\u001b[0m\u001b[0;34m\u001b[0m\u001b[0m\n\u001b[1;32m    668\u001b[0m         \u001b[0mA\u001b[0m\u001b[0;34m[\u001b[0m\u001b[0mrows\u001b[0m\u001b[0;34m:\u001b[0m\u001b[0;34m,\u001b[0m \u001b[0;36m3\u001b[0m\u001b[0;34m]\u001b[0m \u001b[0;34m=\u001b[0m \u001b[0mxs\u001b[0m\u001b[0;34m\u001b[0m\u001b[0m\n",
      "\u001b[0;31mValueError\u001b[0m: operands could not be broadcast together with shapes (738,) (763,) "
     ]
    }
   ],
   "source": [
    "# extract corners using Harris' corner measure\n",
    "coords_orig = corner_peaks(corner_harris(img_orig_gray), threshold_rel=0.001,\n",
    "                           min_distance=5)\n",
    "coords_warped = corner_peaks(corner_harris(img_warped_gray),\n",
    "                             threshold_rel=0.001, min_distance=5)\n",
    "\n",
    "# determine sub-pixel corner position\n",
    "coords_orig_subpix = corner_subpix(img_orig_gray, coords_orig, window_size=9)\n",
    "coords_warped_subpix = corner_subpix(img_warped_gray, coords_warped,\n",
    "                                     window_size=9)\n",
    "\n",
    "\n",
    "def gaussian_weights(window_ext, sigma=1):\n",
    "    y, x = np.mgrid[-window_ext:window_ext+1, -window_ext:window_ext+1]\n",
    "    g = np.zeros(y.shape, dtype=np.double)\n",
    "    g[:] = np.exp(-0.5 * (x**2 / sigma**2 + y**2 / sigma**2))\n",
    "    g /= 2 * np.pi * sigma * sigma\n",
    "    return g\n",
    "\n",
    "\n",
    "def match_corner(coord, window_ext=5):\n",
    "    r_, c_ = np.round(coord).astype(np.intp)\n",
    "    window_orig = img_orig[r_-window_ext:r_+window_ext+1,\n",
    "                           c_-window_ext:c_+window_ext+1, :]\n",
    "\n",
    "    # weight pixels depending on distance to center pixel\n",
    "    weights = gaussian_weights(window_ext, 3)\n",
    "    weights = np.dstack((weights, weights, weights))\n",
    "\n",
    "    # compute sum of squared differences to all corners in warped image\n",
    "    SSDs = []\n",
    "    for cr, cc in coords_warped:\n",
    "        window_warped = img_warped[cr-window_ext:cr+window_ext+1,\n",
    "                                   cc-window_ext:cc+window_ext+1, :]\n",
    "        SSD = np.sum(weights * (window_orig - window_warped)**2)\n",
    "        SSDs.append(SSD)\n",
    "\n",
    "    # use corner with minimum SSD as correspondence\n",
    "    min_idx = np.argmin(SSDs)\n",
    "    return coords_warped_subpix[min_idx]\n",
    "\n",
    "\n",
    "# find correspondences using simple weighted sum of squared differences\n",
    "src = []\n",
    "dst = []\n",
    "for coord in coords_orig_subpix:\n",
    "    try:\n",
    "        src.append(coord)\n",
    "        dst.append(match_corner(coord))\n",
    "    except: \n",
    "        pass\n",
    "src = np.array(src)\n",
    "dst = np.array(dst)\n",
    "\n",
    "\n",
    "# estimate affine transform model using all coordinates\n",
    "model = AffineTransform()\n",
    "model.estimate(src, dst)\n",
    "\n",
    "# robustly estimate affine transform model with RANSAC\n",
    "model_robust, inliers = ransac((src, dst), AffineTransform, min_samples=3,\n",
    "                               residual_threshold=2, max_trials=100)\n",
    "outliers = inliers == False\n",
    "\n",
    "\n",
    "# compare \"true\" and estimated transform parameters\n",
    "print(tform.scale, tform.translation, tform.rotation)\n",
    "print(model.scale, model.translation, model.rotation)\n",
    "print(model_robust.scale, model_robust.translation, model_robust.rotation)\n",
    "\n",
    "# visualize correspondence\n",
    "fig, ax = plt.subplots(nrows=2, ncols=1)\n",
    "\n",
    "plt.gray()\n",
    "\n",
    "inlier_idxs = np.nonzero(inliers)[0]\n",
    "plot_matches(ax[0], img_orig_gray, img_warped_gray, src, dst,\n",
    "             np.column_stack((inlier_idxs, inlier_idxs)), matches_color='b')\n",
    "ax[0].axis('off')\n",
    "ax[0].set_title('Correct correspondences')\n",
    "\n",
    "outlier_idxs = np.nonzero(outliers)[0]\n",
    "plot_matches(ax[1], img_orig_gray, img_warped_gray, src, dst,\n",
    "             np.column_stack((outlier_idxs, outlier_idxs)), matches_color='r')\n",
    "ax[1].axis('off')\n",
    "ax[1].set_title('Faulty correspondences')\n",
    "\n",
    "plt.show()"
   ]
  },
  {
   "cell_type": "code",
   "execution_count": 9,
   "metadata": {},
   "outputs": [],
   "source": [
    "from skimage import img_as_float32\n",
    "\n",
    "def load_image_stack(fov_num):\n",
    "    \n",
    "    # select fov\n",
    "    ims = glob(os.path.join(im_path, '*.npy'))\n",
    "    im = np.load([i for i in ims if str(fov_num) in i][0])   \n",
    "    \n",
    "    stack = np.zeros((1, 1, 45, 2048, 2048), dtype=np.float32)\n",
    "    stack[0,0,:,:,:] = img_as_float32(im)\n",
    "\n",
    "    return ImageStack.from_numpy_array(stack)"
   ]
  },
  {
   "cell_type": "code",
   "execution_count": null,
   "metadata": {},
   "outputs": [],
   "source": [
    "data = img_as_float32(im.reshape(1, 1, *im.shape))  # add ch, hyb \n",
    "ImageStack.from_numpy_array(stack)"
   ]
  },
  {
   "cell_type": "code",
   "execution_count": null,
   "metadata": {},
   "outputs": [],
   "source": []
  }
 ],
 "metadata": {
  "kernelspec": {
   "display_name": "starfish",
   "language": "python",
   "name": "starfish"
  },
  "language_info": {
   "codemirror_mode": {
    "name": "ipython",
    "version": 3
   },
   "file_extension": ".py",
   "mimetype": "text/x-python",
   "name": "python",
   "nbconvert_exporter": "python",
   "pygments_lexer": "ipython3",
   "version": "3.6.5"
  }
 },
 "nbformat": 4,
 "nbformat_minor": 2
}
